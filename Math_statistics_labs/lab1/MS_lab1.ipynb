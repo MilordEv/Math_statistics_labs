{
  "nbformat": 4,
  "nbformat_minor": 0,
  "metadata": {
    "colab": {
      "provenance": []
    },
    "kernelspec": {
      "name": "python3",
      "display_name": "Python 3"
    },
    "language_info": {
      "name": "python"
    }
  },
  "cells": [
    {
      "cell_type": "code",
      "execution_count": null,
      "metadata": {
        "id": "6_U4ct_b0eg_"
      },
      "outputs": [],
      "source": [
        "import numpy as np\n",
        "import scipy.stats as sps"
      ]
    },
    {
      "cell_type": "code",
      "source": [
        "sample1 = sps.norm(loc = 1, scale = 2).rvs(size = 100)\n",
        "sample2 = sps.uniform(loc = -1, scale = 2).rvs(size = 100)\n",
        "sample_pooled = np.concatenate([sample1, sample2])\n",
        "\n",
        "print(sample1[:5])\n",
        "print(sample2[:5])\n",
        "print(sample_pooled[:5])"
      ],
      "metadata": {
        "colab": {
          "base_uri": "https://localhost:8080/"
        },
        "id": "VXryFbfQ5-cm",
        "outputId": "2f0c73bc-d33c-4fdd-8936-75e3cac10776"
      },
      "execution_count": null,
      "outputs": [
        {
          "output_type": "stream",
          "name": "stdout",
          "text": [
            "[ 2.83241895  3.56155037  2.35483658 -0.62216419 -0.12054756]\n",
            "[ 0.46348094 -0.98029915 -0.34339783 -0.80461015 -0.58614516]\n",
            "[ 2.83241895  3.56155037  2.35483658 -0.62216419 -0.12054756]\n"
          ]
        }
      ]
    },
    {
      "cell_type": "code",
      "source": [
        "#1\n",
        "print(\"X1:\")\n",
        "print(\"\\tmean: %.3f\" %sample1.mean())\n",
        "print(\"\\tvar: %.3f\" %sample1.var())\n",
        "print(\"\\tstd: %.3f\" %sample1.std())\n",
        "\n",
        "print(\"X2:\")\n",
        "print(\"\\tmean: %.3f\" %sample2.mean())\n",
        "print(\"\\tvar: %.3f\" %sample2.var())\n",
        "print(\"\\tstd: %.3f\" %sample2.std())\n",
        "\n",
        "print(\"Pooled:\")\n",
        "print(\"\\tmean: %.3f\" %sample_pooled.mean())\n",
        "print(\"\\tvar: %.3f\" %sample_pooled.var())\n",
        "print(\"\\tstd: %.3f\" %sample_pooled.std())"
      ],
      "metadata": {
        "colab": {
          "base_uri": "https://localhost:8080/"
        },
        "id": "70vRybfz7JRP",
        "outputId": "d37e8e4d-3c63-4199-9bff-037629f9f882"
      },
      "execution_count": null,
      "outputs": [
        {
          "output_type": "stream",
          "name": "stdout",
          "text": [
            "X1:\n",
            "\tmean: 1.164\n",
            "\tvar: 3.851\n",
            "\tstd: 1.962\n",
            "X2:\n",
            "\tmean: 0.000\n",
            "\tvar: 0.340\n",
            "\tstd: 0.583\n",
            "Pooled:\n",
            "\tmean: 0.582\n",
            "\tvar: 2.434\n",
            "\tstd: 1.560\n"
          ]
        }
      ]
    },
    {
      "cell_type": "code",
      "source": [
        "from statsmodels.stats.weightstats import ztest as ztest"
      ],
      "metadata": {
        "id": "nvehQEnSOMkA"
      },
      "execution_count": null,
      "outputs": []
    },
    {
      "cell_type": "code",
      "source": [
        "def fun_s0_sample(sample):\n",
        "    s0_sample = 0\n",
        "    for x in sample:\n",
        "        s0_sample += (x - 1)**2\n",
        "    s0_sample /= 100\n",
        "    return s0_sample\n",
        "\n",
        "def fun_s_sample(sample):\n",
        "    s_sample = 0\n",
        "    x_mean = sample.mean()\n",
        "    for x in sample:\n",
        "        s_sample += (x - x_mean)**2\n",
        "    s_sample /= (100 - 1)\n",
        "    return s_sample"
      ],
      "metadata": {
        "id": "4lTagVtWbsOA"
      },
      "execution_count": null,
      "outputs": []
    },
    {
      "cell_type": "code",
      "source": [
        "#2\n",
        "z_sample, p_value1 = ztest(sample1, value = 1)\n",
        "print(\"z_sample = %.3f\" % z_sample)\n",
        "print(\"p_value1 = %.3f\" % p_value1)\n",
        "print(\"\\n\")\n",
        "\n",
        "t_sample, p_value2 = sps.ttest_1samp(sample1, 1)\n",
        "print(\"t_sample = %.3f\" % z_sample)\n",
        "print(\"p_value2 = %.3f\" % p_value2)\n",
        "print(\"\\n\")\n",
        "\n",
        "s0_sample = fun_s0_sample(sample1)\n",
        "chisquare_sample1 = 100 * s0_sample / 3\n",
        "\n",
        "p1 = sps.chi2.cdf(chisquare_sample1, 100)\n",
        "p_value3 = 2 * min(p1, 1 - p1)\n",
        "print(\"chisquare_sample1 = %.3f\" % chisquare_sample1)\n",
        "print(\"p_value3 = %.3f\" % p_value3)\n",
        "print(\"\\n\")\n",
        "\n",
        "s_sample = fun_s_sample(sample1)\n",
        "chisquare_sample2 = (100 - 1) * s_sample / 3\n",
        "\n",
        "p2 = sps.chi2.cdf(chisquare_sample2, 100 - 1)\n",
        "p_value4 = 2 * min(p2, 1 - p2)\n",
        "print(\"chisquare_sample = %.3f\" % chisquare_sample2)\n",
        "print(\"p_value4 = %.3f\" % p_value4)"
      ],
      "metadata": {
        "colab": {
          "base_uri": "https://localhost:8080/"
        },
        "id": "z_LR_9lbKUm0",
        "outputId": "deb5a1c2-4d75-44c5-8c4a-99d8f6a1e38e"
      },
      "execution_count": null,
      "outputs": [
        {
          "output_type": "stream",
          "name": "stdout",
          "text": [
            "z_sample = 0.833\n",
            "p_value1 = 0.405\n",
            "\n",
            "\n",
            "t_sample = 0.833\n",
            "p_value2 = 0.407\n",
            "\n",
            "\n",
            "chisquare_sample1 = 129.256\n",
            "p_value3 = 0.052\n",
            "\n",
            "\n",
            "chisquare_sample = 128.357\n",
            "p_value4 = 0.050\n"
          ]
        }
      ]
    },
    {
      "cell_type": "code",
      "source": [
        "#3\n",
        "tt_sample, p_value1 = sps.ttest_ind(sample1, sample2)\n",
        "print(\"tt_sample = %.3f\" % tt_sample)\n",
        "print(\"p_value1 = %.3f\" % p_value1)\n",
        "print(\"\\n\")\n",
        "\n",
        "s0_sample1 = fun_s0_sample(sample1)\n",
        "s0_sample2 = fun_s0_sample(sample2)\n",
        "f_sample1 = s0_sample1 / s0_sample2\n",
        "\n",
        "p1 =  sps.f(100, 100).cdf(f_sample1)\n",
        "p_value2 = 2 * min(p1, 1 - p1)\n",
        "print(\"f_sample1 = %.3f\" % f_sample1)\n",
        "print(\"p_value2 = %.3f\" % p_value2)\n",
        "print(\"\\n\")\n",
        "\n",
        "s_sample1 = fun_s_sample(sample1)\n",
        "s_sample2 = fun_s_sample(sample2)\n",
        "f_sample2 = s_sample1 / s_sample2\n",
        "\n",
        "p2 =  sps.f(100 - 1, 100 - 1).cdf(f_sample2)\n",
        "p_value3 = 2 * min(p2, 1 - p2)\n",
        "print(\"f_sample2 = %.3f\" % f_sample2)\n",
        "print(\"p_value3 = %.3f\" % p_value3)"
      ],
      "metadata": {
        "colab": {
          "base_uri": "https://localhost:8080/"
        },
        "id": "MMaM2PLBYI6r",
        "outputId": "552e0bd5-a5df-4504-8d3d-479f6cb1d07d"
      },
      "execution_count": null,
      "outputs": [
        {
          "output_type": "stream",
          "name": "stdout",
          "text": [
            "tt_sample = 5.656\n",
            "p_value1 = 0.000\n",
            "\n",
            "\n",
            "f_sample1 = 2.895\n",
            "p_value2 = 0.000\n",
            "\n",
            "\n",
            "f_sample2 = 11.314\n",
            "p_value3 = 0.000\n"
          ]
        }
      ]
    },
    {
      "cell_type": "code",
      "source": [
        "#4\n",
        "x_sample = list()\n",
        "s = list()\n",
        "for _ in range(1000):\n",
        "    sample = sps.norm(loc = 1, scale = 2).rvs(size = 100)\n",
        "    x_sample.append(sample)\n",
        "    s.append(fun_s_sample(sample))\n",
        "\n",
        "z = list()\n",
        "p_value = list()\n",
        "for i in range(1000):\n",
        "    z.append(((x_sample[i]).mean() - 1)/((s[i])**(0.5)/10))\n",
        "\n",
        "    p = sps.t(99).cdf(z[i])\n",
        "    p_value.append(2 * min(p, 1 - p))\n",
        "\n",
        "print(\"Z:\")\n",
        "print(\"\\tmean: %.3f\" %np.mean(z))\n",
        "print(\"\\tvar: %.3f\" %np.var(z))\n",
        "print(\"\\tstd: %.3f\" %np.std(z))\n",
        "\n",
        "print(\"P-value:\")\n",
        "print(\"\\tmean: %.3f\" %np.mean(p_value))\n",
        "print(\"\\tvar: %.3f\" %np.var(p_value))\n",
        "print(\"\\tstd: %.3f\" %np.std(p_value))"
      ],
      "metadata": {
        "colab": {
          "base_uri": "https://localhost:8080/"
        },
        "id": "jiwnm923l_U5",
        "outputId": "5001a2d9-ee09-4a19-b59b-2cdc603a4712"
      },
      "execution_count": null,
      "outputs": [
        {
          "output_type": "stream",
          "name": "stdout",
          "text": [
            "Z:\n",
            "\tmean: 0.007\n",
            "\tvar: 0.973\n",
            "\tstd: 0.987\n",
            "P-value:\n",
            "\tmean: 0.502\n",
            "\tvar: 0.082\n",
            "\tstd: 0.286\n"
          ]
        }
      ]
    },
    {
      "cell_type": "code",
      "source": [
        "import matplotlib.pyplot as plt"
      ],
      "metadata": {
        "id": "sbUyLwUqmXqr"
      },
      "execution_count": null,
      "outputs": []
    },
    {
      "cell_type": "code",
      "source": [
        "x = np.linspace(-5, 5, 5000)\n",
        "plt.plot(x, sps.t(99).pdf(x))\n",
        "plt.hist(np.array(z), bins = 30, density=True)\n",
        "plt.ylabel('$f_Z(z|H_0)$')\n",
        "plt.xlabel('$z$');"
      ],
      "metadata": {
        "colab": {
          "base_uri": "https://localhost:8080/",
          "height": 449
        },
        "id": "aNm5GqZLu7Qv",
        "outputId": "2ef36d1b-1b01-4962-df64-476475ac1b89"
      },
      "execution_count": null,
      "outputs": [
        {
          "output_type": "display_data",
          "data": {
            "text/plain": [
              "<Figure size 640x480 with 1 Axes>"
            ],
            "image/png": "[encoded data removed]"
          },
          "metadata": {}
        }
      ]
    },
    {
      "cell_type": "code",
      "source": [
        "x = np.linspace(-0.5, 1.5, 5000)\n",
        "plt.plot(x, sps.uniform(loc=0, scale=1).pdf(x))\n",
        "plt.hist(np.array(p_value), bins=30, density=True);\n",
        "plt.ylabel('$f_P(p|H_0)$')\n",
        "plt.xlabel('$p$');"
      ],
      "metadata": {
        "colab": {
          "base_uri": "https://localhost:8080/",
          "height": 450
        },
        "id": "8f4rzPp2y7lQ",
        "outputId": "be9aef30-25d0-458d-d059-e138113e6279"
      },
      "execution_count": null,
      "outputs": [
        {
          "output_type": "display_data",
          "data": {
            "text/plain": [
              "<Figure size 640x480 with 1 Axes>"
            ],
            "image/png": "[encoded data removed]"
          },
          "metadata": {}
        }
      ]
    }
  ]
}