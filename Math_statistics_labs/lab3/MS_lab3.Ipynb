{
 "cells": [
  {
   "cell_type": "code",
   "execution_count": 1,
   "metadata": {},
   "outputs": [],
   "source": [
    "import numpy as np\n",
    "import scipy.stats as sps"
   ]
  },
  {
   "cell_type": "code",
   "execution_count": 22,
   "metadata": {},
   "outputs": [
    {
     "name": "stdout",
     "output_type": "stream",
     "text": [
      "[ 3.78948215 -1.14100098  2.42258135  1.9456438  -1.54218553]\n",
      "[0.18189962 1.86620996 1.58223737 0.80296829 1.77982024]\n",
      "[ 2.33698084 -5.63034647  2.95611843 -1.67214873 -0.35005505]\n"
     ]
    }
   ],
   "source": [
    "sample1 = sps.norm(loc = 1, scale = 2).rvs(size = 100)\n",
    "sample2 = sps.uniform(loc = 0, scale = 2).rvs(size = 150)\n",
    "sample3 = sps.norm(loc = 1, scale = 3).rvs(size = 200)\n",
    "\n",
    "np.savetxt(\"sample1.csv\", sample1)\n",
    "np.savetxt(\"sample2.csv\", sample2)\n",
    "np.savetxt(\"sample3.csv\", sample3)\n",
    "\n",
    "print(sample1[:5])\n",
    "print(sample2[:5])\n",
    "print(sample3[:5])"
   ]
  },
  {
   "cell_type": "code",
   "execution_count": 2,
   "metadata": {},
   "outputs": [
    {
     "name": "stdout",
     "output_type": "stream",
     "text": [
      "[ 3.78948215 -1.14100098  2.42258135  1.9456438  -1.54218553]\n",
      "[0.18189962 1.86620996 1.58223737 0.80296829 1.77982024]\n",
      "[ 2.33698084 -5.63034647  2.95611843 -1.67214873 -0.35005505]\n"
     ]
    }
   ],
   "source": [
    "sample1 = np.genfromtxt('sample1.csv')\n",
    "sample2 = np.genfromtxt('sample2.csv')\n",
    "sample3 = np.genfromtxt('sample3.csv')\n",
    "\n",
    "print(sample1[:5])\n",
    "print(sample2[:5])\n",
    "print(sample3[:5])"
   ]
  },
  {
   "cell_type": "code",
   "execution_count": 3,
   "metadata": {},
   "outputs": [],
   "source": [
    "def sample_value(sample, n):\n",
    "    sample_mean = sample.mean()\n",
    "    sample_var = sample.var() * n / (n - 1) \n",
    "    sample_std = sample_var ** (0.5)\n",
    "\n",
    "    print(\"\\tmean: %.3f\" %sample_mean)\n",
    "    print('\\ts^2: %.3f' %sample_var)\n",
    "    print(\"\\ts: %.3f\" %sample_std)"
   ]
  },
  {
   "cell_type": "code",
   "execution_count": 4,
   "metadata": {},
   "outputs": [
    {
     "name": "stdout",
     "output_type": "stream",
     "text": [
      "X1:\n",
      "\tmean: 1.000\n",
      "\ts^2: 3.659\n",
      "\ts: 1.913\n",
      "X2:\n",
      "\tmean: 0.976\n",
      "\ts^2: 0.352\n",
      "\ts: 0.593\n",
      "X3:\n",
      "\tmean: 0.651\n",
      "\ts^2: 9.360\n",
      "\ts: 3.059\n",
      "Pooled:\n",
      "\tmean: 0.837\n",
      "\ts^2: 5.100\n",
      "\ts: 2.258\n"
     ]
    }
   ],
   "source": [
    "#1\n",
    "print(\"X1:\")\n",
    "sample_value(sample1, 100)\n",
    "\n",
    "print(\"X2:\")\n",
    "sample_value(sample2, 150)\n",
    "\n",
    "print(\"X3:\")\n",
    "sample_value(sample3, 200)\n",
    "\n",
    "sample_pooled = np.concatenate([sample1, sample2, sample3])\n",
    "print(\"Pooled:\")\n",
    "sample_value(sample_pooled, 100 + 150 + 200)\n"
   ]
  },
  {
   "cell_type": "code",
   "execution_count": 5,
   "metadata": {},
   "outputs": [],
   "source": [
    "import matplotlib.pyplot as plt"
   ]
  },
  {
   "cell_type": "code",
   "execution_count": 6,
   "metadata": {},
   "outputs": [
    {
     "data": {
      "image/png": "[encoded data removed]",
      "text/plain": [
       "<Figure size 432x288 with 1 Axes>"
      ]
     },
     "metadata": {
      "needs_background": "light"
     },
     "output_type": "display_data"
    }
   ],
   "source": [
    "#2\n",
    "plt.boxplot([sample1, sample2, sample3])\n",
    "plt.xticks([1, 2, 3], ['X1', 'X2', 'X3'])\n",
    "plt.grid(axis = 'y')\n",
    "plt.ylabel(\"value\")\n",
    "plt.show()"
   ]
  },
  {
   "cell_type": "code",
   "execution_count": 7,
   "metadata": {},
   "outputs": [
    {
     "name": "stdout",
     "output_type": "stream",
     "text": [
      "statistic: 308.941\n",
      "p_value: 0.000\n"
     ]
    }
   ],
   "source": [
    "#3\n",
    "statistic, p_value = sps.bartlett(sample1, sample2, sample3)\n",
    "print(\"statistic: %.3f\" %statistic)\n",
    "print(\"p_value: %.3f\" %p_value)"
   ]
  },
  {
   "cell_type": "code",
   "execution_count": 9,
   "metadata": {},
   "outputs": [
    {
     "name": "stdout",
     "output_type": "stream",
     "text": [
      "Grouping characteristic:\n",
      "\tvalue: 0.028\n",
      "\tfreedom degree: 2\n",
      "\tunbiased value: 6.235\n",
      "\n",
      "\n",
      "residual characteristic:\n",
      "\tvalue: 5.060\n",
      "\tfreedom degree: 447\n",
      "\tunbiased value: 5.094\n",
      "\n",
      "\n",
      "all characteristic:\n",
      "\tvalue: 5.088\n",
      "\tfreedom degree: 449\n",
      "\tunbiased value: 5.100\n",
      "\n",
      "\n",
      "coefficient of determination: 0.005\n",
      "coefficient of correlation: 0.074\n",
      "\n",
      "\n",
      "statistic: 1.224\n",
      "p_value: 0.295\n"
     ]
    }
   ],
   "source": [
    "#4\n",
    "n = [100, 150, 200]\n",
    "sample_means = [sample1.mean(), sample2.mean(), sample3.mean()]\n",
    "sample_vars = [sample1.var(), sample2.var(), sample3.var()]\n",
    "\n",
    "n_pooled = sum(n)\n",
    "pooled_mean = sample_pooled.mean()\n",
    "pooled_var = sample_pooled.var()\n",
    "\n",
    "D_b = 0\n",
    "D_w = 0\n",
    "\n",
    "for i in range(3):\n",
    "    D_b += (n[i] * ((sample_means[i] - pooled_mean)**2))\n",
    "    D_w += (n[i] * sample_vars[i])\n",
    "\n",
    "D_b /= n_pooled\n",
    "D_w /= n_pooled\n",
    "\n",
    "coef_determ = D_b / pooled_var\n",
    "coef_corr = coef_determ**(0.5)\n",
    "\n",
    "statistic, p_value = sps.f_oneway(sample1, sample2, sample3)\n",
    "\n",
    "print(\"Grouping characteristic:\")\n",
    "print(\"\\tvalue: %.3f\" %D_b)\n",
    "print(\"\\tfreedom degree: 2\")\n",
    "print(\"\\tunbiased value: %.3f\" %((n_pooled / 2) * D_b))\n",
    "print(\"\\n\")\n",
    "\n",
    "print(\"residual characteristic:\")\n",
    "print(\"\\tvalue: %.3f\" %D_w)\n",
    "print(\"\\tfreedom degree: %i\" %(n_pooled - 3))\n",
    "print(\"\\tunbiased value: %.3f\" %(n_pooled / (n_pooled - 3) * D_w))\n",
    "print(\"\\n\")\n",
    "\n",
    "print(\"all characteristic:\")\n",
    "print(\"\\tvalue: %.3f\" %pooled_var)\n",
    "print(\"\\tfreedom degree: %i\" %(n_pooled - 1))\n",
    "print(\"\\tunbiased value: %.3f\" %(n_pooled / (n_pooled - 1) * pooled_var))\n",
    "print(\"\\n\")\n",
    "\n",
    "print(\"coefficient of determination: %.3f\" %coef_determ)\n",
    "print(\"coefficient of correlation: %.3f\" %coef_corr)\n",
    "print(\"\\n\")\n",
    "\n",
    "print(\"statistic: %.3f\" %statistic)\n",
    "print(\"p_value: %.3f\" %p_value)"
   ]
  },
  {
   "cell_type": "code",
   "execution_count": 44,
   "metadata": {},
   "outputs": [],
   "source": [
    "n = [100, 150, 200]\n",
    "sample_vars = [sample1.var(), sample2.var(), sample3.var()]\n",
    "n_pooled = sum(n)\n",
    "\n",
    "D_w = 0\n",
    "\n",
    "for i in range(3):\n",
    "    D_w += (n[i] * sample_vars[i])\n",
    "\n",
    "D_w /= n_pooled\n",
    "\n",
    "def scheffe_method(sample1, sample2, alpha):\n",
    "    sample_c = sample1.mean() - sample2.mean()\n",
    "\n",
    "    var_c = 0\n",
    "    for i in range(2):\n",
    "        var_c += (1 / n[i])\n",
    "    var_c *= ((n_pooled * D_w) / (n_pooled - 3))\n",
    "\n",
    "    scale = (var_c * 2 * sps.f.ppf(1 - alpha, 2, n_pooled - 3))**(0.5)\n",
    "    return (sample_c - scale, sample_c + scale) "
   ]
  },
  {
   "cell_type": "code",
   "execution_count": 45,
   "metadata": {},
   "outputs": [
    {
     "data": {
      "image/png": "[encoded data removed]",
      "text/plain": [
       "<Figure size 576x288 with 1 Axes>"
      ]
     },
     "metadata": {
      "needs_background": "light"
     },
     "output_type": "display_data"
    }
   ],
   "source": [
    "#5\n",
    "l12, r12 = scheffe_method(sample1, sample2, 0.1)   \n",
    "l13, r13 = scheffe_method(sample1, sample3, 0.1)   \n",
    "l23, r23 = scheffe_method(sample2, sample3, 0.1)   \n",
    "\n",
    "segment1 = [(l12, 1), (r12, 1)]\n",
    "segment2 = [(l13, 2), (r13, 2)]\n",
    "segment3 = [(l23, 3), (r23, 3)]\n",
    "\n",
    "x1, y1 = zip(*segment1)\n",
    "x2, y2 = zip(*segment2)\n",
    "x3, y3 = zip(*segment3)\n",
    "\n",
    "plt.figure(figsize=(8, 4))\n",
    "\n",
    "plt.plot(x1, y1, label='$m_1 = m_2$')\n",
    "plt.plot(x2, y2, label='$m_1 = m_3$')\n",
    "plt.plot(x3, y3, label='$m_2 = m_3$')\n",
    "\n",
    "plt.scatter(*zip(*segment1), color='blue', marker='o')\n",
    "plt.scatter(*zip(*segment2), color='orange', marker='o')\n",
    "plt.scatter(*zip(*segment3), color='green', marker='o')\n",
    "\n",
    "ax = plt.gca ()\n",
    "ax.get_yaxis ().set_visible (False) \n",
    "\n",
    "plt.xlabel('value')\n",
    "plt.legend()\n",
    "plt.grid(True)\n",
    "plt.show()\n"
   ]
  },
  {
   "cell_type": "code",
   "execution_count": 23,
   "metadata": {},
   "outputs": [],
   "source": [
    "from statsmodels.stats.multicomp import pairwise_tukeyhsd\n",
    "import random"
   ]
  },
  {
   "cell_type": "code",
   "execution_count": 51,
   "metadata": {},
   "outputs": [
    {
     "name": "stdout",
     "output_type": "stream",
     "text": [
      "Multiple Comparison of Means - Tukey HSD, FWER=0.10\n",
      "===================================================\n",
      "group1 group2 meandiff p-adj   lower  upper  reject\n",
      "---------------------------------------------------\n",
      "    X1     X2   0.0308    0.9   -0.59 0.6516  False\n",
      "    X1     X3   -0.229 0.7094 -0.8499 0.3918  False\n",
      "    X2     X3  -0.2599 0.6509 -0.8807  0.361  False\n",
      "---------------------------------------------------\n"
     ]
    }
   ],
   "source": [
    "tukey = pairwise_tukeyhsd(groups = ([\"X1\"] * 100 + [\"X2\"] * 100 + [\"X3\"] * 100), endog = (list(sample1) + random.sample(list(sample2), 100) + random.sample(list(sample3), 100)), alpha = 0.1)\n",
    "print(tukey)"
   ]
  }
 ],
 "metadata": {
  "kernelspec": {
   "display_name": "base",
   "language": "python",
   "name": "python3"
  },
  "language_info": {
   "codemirror_mode": {
    "name": "ipython",
    "version": 3
   },
   "file_extension": ".py",
   "mimetype": "text/x-python",
   "name": "python",
   "nbconvert_exporter": "python",
   "pygments_lexer": "ipython3",
   "version": "3.8.8"
  }
 },
 "nbformat": 4,
 "nbformat_minor": 2
}
